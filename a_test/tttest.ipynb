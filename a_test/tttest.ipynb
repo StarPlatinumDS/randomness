{
 "cells": [
  {
   "metadata": {},
   "cell_type": "markdown",
   "source": "# Load the data",
   "id": "a444cc18bb95d63"
  },
  {
   "cell_type": "code",
   "id": "initial_id",
   "metadata": {
    "collapsed": true
   },
   "source": [
    "import pandas as pd\n",
    "import numpy as np\n",
    "import matplotlib.pyplot as plt"
   ],
   "outputs": [],
   "execution_count": null
  },
  {
   "metadata": {},
   "cell_type": "code",
   "source": [
    "df = pd.read_excel(\"data.xlsx\")\n",
    "df"
   ],
   "id": "3eabfc8cc9141082",
   "outputs": [],
   "execution_count": null
  },
  {
   "metadata": {},
   "cell_type": "markdown",
   "source": "# Remove an empty 'Unnamed: 5' column",
   "id": "2dbc0eda34a94550"
  },
  {
   "metadata": {},
   "cell_type": "code",
   "source": "df.columns",
   "id": "2b38d7842f9e1f8a",
   "outputs": [],
   "execution_count": null
  },
  {
   "metadata": {},
   "cell_type": "code",
   "source": [
    "df = df.drop(columns=['Unnamed: 5'])\n",
    "df"
   ],
   "id": "8793943c07d8b888",
   "outputs": [],
   "execution_count": null
  },
  {
   "metadata": {},
   "cell_type": "markdown",
   "source": [
    "# Problem 1:\n",
    "The problem is as follows: 1) Вычислите общую выручку за июль 2021 по тем сделкам, приход денежных средств, которых не просрочен.\n",
    "\n",
    "Due to specific construction of a dataset and the fact that we can't simply check for specific datatime value, we'll need to split data on df['status'] == \"Июль 2021\" and df['status'] == \"Август 2021\" to create a new dataframe which will include all entries of that specific month"
   ],
   "id": "c3a2c800a313931"
  },
  {
   "metadata": {},
   "cell_type": "code",
   "source": [
    "july_idx = df.index[df['status'] == \"Июль 2021\"][0]\n",
    "august_idx = df.index[df['status'] == \"Август 2021\"][0]"
   ],
   "id": "d7730153e1200a74",
   "outputs": [],
   "execution_count": null
  },
  {
   "metadata": {},
   "cell_type": "code",
   "source": "df_july = df.iloc[july_idx + 1 : august_idx]",
   "id": "b554f65fbd6f02f3",
   "outputs": [],
   "execution_count": null
  },
  {
   "metadata": {},
   "cell_type": "markdown",
   "source": "Next we'll filter out all rows with ['status'] == \"ПРОСРОЧЕНО\" and sum everything that's left in column ['sum']",
   "id": "dfcbb2c78d4171cd"
  },
  {
   "metadata": {},
   "cell_type": "code",
   "source": [
    "df_july_valid = df_july[df_july['status'] != \"ПРОСРОЧЕНО\"]\n",
    "total_revenue = df_july_valid['sum'].sum()\n",
    "print(f\"Total revenue for July 2021 (not overdue):, {total_revenue:.2f}\")"
   ],
   "id": "53da9cf143af3077",
   "outputs": [],
   "execution_count": null
  },
  {
   "metadata": {},
   "cell_type": "markdown",
   "source": [
    "# Problem 2:\n",
    "Is as follows: Как изменялась выручка компании за рассматриваемый период? Проиллюстрируйте графиком.\n",
    "\n",
    "There are multiple ways to consider the empty rows for each month, but I've chosen to create a new ['month'] column which will be forward filled with the value of the month "
   ],
   "id": "50402b3f38d1a82f"
  },
  {
   "metadata": {},
   "cell_type": "code",
   "source": [
    "# Assuming marker rows (with month names like \"Июль 2021\") have no revenue value (NaN in 'sum')\n",
    "df['month'] = np.where(df['sum'].isna(), df['status'], None)\n",
    "df['month'] = df['month'].ffill()\n",
    "df"
   ],
   "id": "7edb81030dde62e8",
   "outputs": [],
   "execution_count": null
  },
  {
   "metadata": {},
   "cell_type": "markdown",
   "source": "Now let's remove marker rows. We know that all marker rows have NaN in sum column (as shown below)",
   "id": "661908c8ec601d6d"
  },
  {
   "metadata": {},
   "cell_type": "code",
   "source": "df.isnull().sum()",
   "id": "f88f8bb02971e222",
   "outputs": [],
   "execution_count": null
  },
  {
   "metadata": {},
   "cell_type": "markdown",
   "source": "Therefore will use df.dropna on a subset of sum to remove now redundant marker rows",
   "id": "8e574d4df68dedf8"
  },
  {
   "metadata": {},
   "cell_type": "code",
   "source": [
    "df_deals = df.dropna(subset=['sum'])\n",
    "df_deals"
   ],
   "id": "56b1820a584a000",
   "outputs": [],
   "execution_count": null
  },
  {
   "metadata": {},
   "cell_type": "markdown",
   "source": "Great. Now all that's left is to group everything by month and plot a graph",
   "id": "cb073ac3e2bffc9a"
  },
  {
   "metadata": {},
   "cell_type": "code",
   "source": [
    "monthly_revenue = df_deals.groupby('month')['sum'].sum()\n",
    "monthly_revenue"
   ],
   "id": "aad22a7ec694f1f",
   "outputs": [],
   "execution_count": null
  },
  {
   "metadata": {},
   "cell_type": "code",
   "source": [
    "month_order = [\"Май 2021\", \"Июнь 2021\", \"Июль 2021\", \"Август 2021\", \"Сентябрь 2021\", \"Октябрь 2021\"]\n",
    "monthly_revenue = monthly_revenue.loc[month_order]\n",
    "plt.plot(month_order, monthly_revenue.values, marker='o')\n",
    "plt.xlabel('Месяц')\n",
    "plt.ylabel('Общая выручка (млн.)')\n",
    "plt.title('Изменение выручки компании за рассматриваемый период')\n",
    "plt.xticks(rotation=45)\n",
    "plt.grid(True)\n",
    "plt.show()"
   ],
   "id": "1bfe806d98558ab0",
   "outputs": [],
   "execution_count": null
  },
  {
   "metadata": {},
   "cell_type": "markdown",
   "source": [
    "# Problem 3:\n",
    "The problem is as follows: Кто из менеджеров привлек для компании больше всего денежных средств в сентябре 2021?\n",
    "\n",
    "For that we'll now use a previously created ['month'] column to get all \"Сентябрь 2021\" rows"
   ],
   "id": "aadffa78e78703a1"
  },
  {
   "metadata": {},
   "cell_type": "code",
   "source": "df_sept = df[df['month'] == \"Сентябрь 2021\"]",
   "id": "9b5b4e67537074d",
   "outputs": [],
   "execution_count": null
  },
  {
   "metadata": {},
   "cell_type": "markdown",
   "source": "Now let's group rows by the ['sale'] column and sum the revenue in ['sum'] column",
   "id": "9a47fd1384e2edf1"
  },
  {
   "metadata": {},
   "cell_type": "code",
   "source": [
    "manager_revenue = df_sept.groupby('sale')['sum'].sum()\n",
    "manager_revenue"
   ],
   "id": "5f5fef93619ecb4b",
   "outputs": [],
   "execution_count": null
  },
  {
   "metadata": {},
   "cell_type": "code",
   "source": [
    "top_manager = manager_revenue.idxmax()\n",
    "print(\"Manager with highest revenue in September 2021:\", top_manager)"
   ],
   "id": "d822d766c5c3263c",
   "outputs": [],
   "execution_count": null
  },
  {
   "metadata": {},
   "cell_type": "code",
   "source": [
    "top_revenue = manager_revenue.max()\n",
    "print(\"Total revenue by\", top_manager, \":\", top_revenue)"
   ],
   "id": "ae8d2f2d75eec24d",
   "outputs": [],
   "execution_count": null
  },
  {
   "metadata": {},
   "cell_type": "markdown",
   "source": [
    "# Problem 4:\n",
    "The problem is as follows: Какой тип сделок (новая/текущая) был преобладающим в октябре 2021?\n",
    "\n",
    "Again, we'll group by month, but now we'll use value_counts() on a ['new/current'] column"
   ],
   "id": "3db890f1c694eb58"
  },
  {
   "metadata": {},
   "cell_type": "code",
   "source": [
    "df_oct = df[df['month'] == \"Октябрь 2021\"]\n",
    "deal_type_counts = df_oct['new/current'].value_counts()\n",
    "print(\"Количество сделок по типу в октябре 2021:\")\n",
    "print(deal_type_counts)"
   ],
   "id": "7785453e448a4b31",
   "outputs": [],
   "execution_count": null
  },
  {
   "metadata": {},
   "cell_type": "markdown",
   "source": "A simple check on whether or not the deal_type_counts is empty",
   "id": "3df61ea163ca653e"
  },
  {
   "metadata": {},
   "cell_type": "code",
   "source": [
    "if not deal_type_counts.empty:\n",
    "    predominant_deal_type = deal_type_counts.idxmax()\n",
    "    print(\"Преобладающий тип сделок в октябре 2021:\", predominant_deal_type)\n",
    "else:\n",
    "    print(\"В октябре 2021 нет данных по сделкам.\")"
   ],
   "id": "8cd67b31fe1cfd9",
   "outputs": [],
   "execution_count": null
  },
  {
   "metadata": {},
   "cell_type": "markdown",
   "source": [
    "# Problem 5:\n",
    "Сколько оригиналов договора по майским сделкам было получено в июне 2021?\n",
    "\n",
    "For that we'll transform ['receiving_date'] column to datetime"
   ],
   "id": "4b60b4192db78822"
  },
  {
   "metadata": {},
   "cell_type": "code",
   "source": "df['receiving_date'] = pd.to_datetime(df['receiving_date'], format='%d.%m.%Y', errors='coerce')",
   "id": "72efd212c50aaef3",
   "outputs": [],
   "execution_count": null
  },
  {
   "metadata": {},
   "cell_type": "markdown",
   "source": "Now we'll use df_jun to store all rows of month June and we'll filter them on ['receiving_date'] column, where values of month == 5 (May), afterwards we'll print out len of the result",
   "id": "9a2ddfc3b53d9718"
  },
  {
   "metadata": {},
   "cell_type": "code",
   "source": [
    "df_jun = df[df['month'] == \"Июнь 2021\"]\n",
    "may_originals = df_jun[df_jun['receiving_date'].dt.month == 5]\n",
    "print(len(may_originals))"
   ],
   "id": "1a3574fe2c2cd972",
   "outputs": [],
   "execution_count": null
  },
  {
   "metadata": {},
   "cell_type": "markdown",
   "source": [
    "# Task 1:\n",
    "За новые сделки менеджер получает 7 % от суммы, при условии, что статус оплаты «ОПЛАЧЕНО», а также имеется оригинал подписанного договора с клиентом (в рассматриваемом месяце).\n",
    "\n",
    "We'll add a new column ['month_num'] for ease of filtering later on"
   ],
   "id": "14ea3718a685cb80"
  },
  {
   "metadata": {},
   "cell_type": "code",
   "source": [
    "month_mapping = {\n",
    "    'Январь': 1,\n",
    "    'Февраль': 2,\n",
    "    'Март': 3,\n",
    "    'Апрель': 4,\n",
    "    'Май': 5,\n",
    "    'Июнь': 6,\n",
    "    'Июль': 7,\n",
    "    'Август': 8,\n",
    "    'Сентябрь': 9,\n",
    "    'Октябрь': 10,\n",
    "    'Ноябрь': 11,\n",
    "    'Декабрь': 12\n",
    "}\n",
    "\n",
    "df['month_num'] = df['month'].apply(lambda x: month_mapping[x.split()[0]] if isinstance(x, str) and x.split() else None)"
   ],
   "id": "7c007f97c539c358",
   "outputs": [],
   "execution_count": null
  },
  {
   "metadata": {},
   "cell_type": "markdown",
   "source": "Now we'll chain filters based on the requirements",
   "id": "918afa34d8a370f8"
  },
  {
   "metadata": {},
   "cell_type": "code",
   "source": [
    "df_new_deals = df[(df['new/current'] == \"новая\") & (df['status'] == \"ОПЛАЧЕНО\") & (df['document'] == 'оригинал') & (df['receiving_date'].dt.month == df['month_num'])]\n",
    "df_new_deals #No new deals that were completed in the same month"
   ],
   "id": "1f689d2ec04bf515",
   "outputs": [],
   "execution_count": null
  },
  {
   "metadata": {},
   "cell_type": "markdown",
   "source": "Despite the fact that there are no such deals, the logic would be as follows",
   "id": "4268a405ac8579b1"
  },
  {
   "metadata": {},
   "cell_type": "code",
   "source": [
    "commission_by_manager = df_new_deals.groupby('sale')['sum'].sum() * 0.07\n",
    "print(commission_by_manager)"
   ],
   "id": "aa94b2b9e6292101",
   "outputs": [],
   "execution_count": null
  },
  {
   "metadata": {},
   "cell_type": "markdown",
   "source": [
    "# Task 2:\n",
    "За текущие сделки менеджер получает 5 % от суммы, если она больше 10 тыс., и 3 % от суммы, если меньше. При этом статус оплаты может быть любым, кроме «ПРОСРОЧЕНО», а также необходимо наличие оригинала подписанного договора с клиентом (в рассматриваемом месяце).\n",
    "\n",
    "We'll start by filtering deals by 'current' type and removing all ['status'] == \"ПРОСРОЧЕНО\""
   ],
   "id": "bc6bda529c1331dd"
  },
  {
   "metadata": {},
   "cell_type": "code",
   "source": [
    "df_current = df[(df['new/current'] == \"текущая\") & (df['status'] != \"ПРОСРОЧЕНО\") & (df['document'] == \"оригинал\")].copy() \n",
    "df_current"
   ],
   "id": "4a4bc331d939a708",
   "outputs": [],
   "execution_count": null
  },
  {
   "metadata": {},
   "cell_type": "markdown",
   "source": "Filter out deals where the original contract was not received in the same month.",
   "id": "240453fc21011123"
  },
  {
   "metadata": {},
   "cell_type": "code",
   "source": [
    "df_pending = df_current[df_current['receiving_date'].dt.month != df_current['month_num']].copy()\n",
    "df_pending"
   ],
   "id": "8b6d24f59e3c65f0",
   "outputs": [],
   "execution_count": null
  },
  {
   "metadata": {},
   "cell_type": "markdown",
   "source": "For each pending deal, determine the bonus rate: 5% if the deal sum > 10,000, otherwise 3%.",
   "id": "234a6ad17f916b83"
  },
  {
   "metadata": {},
   "cell_type": "code",
   "source": [
    "df_pending['bonus_rate'] = df_pending['sum'].apply(lambda x: 0.05 if x > 10000 else 0.03)\n",
    "df_pending"
   ],
   "id": "9b66eb8d0201dca",
   "outputs": [],
   "execution_count": null
  },
  {
   "metadata": {},
   "cell_type": "markdown",
   "source": "Calculate the bonus amount for each deal",
   "id": "a36d14bdce708702"
  },
  {
   "metadata": {},
   "cell_type": "code",
   "source": [
    "df_pending['bonus_amount'] = df_pending['sum'] * df_pending['bonus_rate']\n",
    "df_pending"
   ],
   "id": "160d1e6ff66b0792",
   "outputs": [],
   "execution_count": null
  },
  {
   "metadata": {},
   "cell_type": "markdown",
   "source": "Now, group by manager",
   "id": "2b0e9d560b50c203"
  },
  {
   "metadata": {},
   "cell_type": "code",
   "source": [
    "balance_by_manager = df_pending.groupby('sale')['bonus_amount'].sum()\n",
    "balance_by_manager"
   ],
   "id": "2f3d9516a97401ae",
   "outputs": [],
   "execution_count": null
  },
  {
   "metadata": {},
   "cell_type": "markdown",
   "source": [
    "# Now for the \"Вычислите остаток каждого из менеджеров на 01.07.2021\" part\n",
    "\n",
    "We'll start with considering only deals from months prior to July 2021"
   ],
   "id": "1348a4740f742743"
  },
  {
   "metadata": {},
   "cell_type": "code",
   "source": [
    "df_prior = df_current[df_current['month_num'] < 7].copy()\n",
    "df_prior"
   ],
   "id": "19a768ac17749c71",
   "outputs": [],
   "execution_count": null
  },
  {
   "metadata": {},
   "cell_type": "markdown",
   "source": [
    "Identify deals that are pending bonus as of 01.07.2021. A deal is pending if the original was not received in its own month. And moreover, if original was received - it must be after or on 01.07.2021\n",
    "We'll create a mask (True/False values) to filter our df further"
   ],
   "id": "9a37da65afb5b542"
  },
  {
   "metadata": {},
   "cell_type": "code",
   "source": [
    "pending_mask = (\n",
    "    df_prior['receiving_date'].isna() | \n",
    "    (df_prior['receiving_date'] >= pd.to_datetime('2021-07-01'))\n",
    ")"
   ],
   "id": "1887524e054c8c3a",
   "outputs": [],
   "execution_count": null
  },
  {
   "metadata": {},
   "cell_type": "code",
   "source": [
    "df_pending = df_prior[pending_mask].copy()\n",
    "df_pending"
   ],
   "id": "e75a34c45dd4d8e1",
   "outputs": [],
   "execution_count": null
  },
  {
   "metadata": {},
   "cell_type": "markdown",
   "source": "Calculate bonus rate and bonus amount per deal (again, since it's a different df)",
   "id": "99fcae4b36adba1"
  },
  {
   "metadata": {},
   "cell_type": "code",
   "source": [
    "df_pending['bonus_rate'] = df_pending['sum'].apply(lambda x: 0.05 if x > 10000 else 0.03)\n",
    "df_pending['pending_bonus'] = df_pending['sum'] * df_pending['bonus_rate']\n",
    "df_pending"
   ],
   "id": "38e72196ada17476",
   "outputs": [],
   "execution_count": null
  },
  {
   "metadata": {},
   "cell_type": "markdown",
   "source": "Group by manager",
   "id": "b66245230d10f153"
  },
  {
   "metadata": {},
   "cell_type": "code",
   "source": [
    "pending_balance_by_manager = df_pending.groupby('sale')['pending_bonus'].sum()\n",
    "print(f\"Остаток по бонусам (текущим сделкам) каждого менеджера на 01.07.2021: {pending_balance_by_manager}\")"
   ],
   "id": "b4e78417ac5f5b7f",
   "outputs": [],
   "execution_count": null
  },
  {
   "metadata": {},
   "cell_type": "code",
   "source": "",
   "id": "d93587adc22cf23e",
   "outputs": [],
   "execution_count": null
  }
 ],
 "metadata": {
  "kernelspec": {
   "display_name": "Python 3",
   "language": "python",
   "name": "python3"
  },
  "language_info": {
   "codemirror_mode": {
    "name": "ipython",
    "version": 2
   },
   "file_extension": ".py",
   "mimetype": "text/x-python",
   "name": "python",
   "nbconvert_exporter": "python",
   "pygments_lexer": "ipython2",
   "version": "2.7.6"
  }
 },
 "nbformat": 4,
 "nbformat_minor": 5
}

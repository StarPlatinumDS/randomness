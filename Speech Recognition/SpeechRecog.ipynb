{
 "cells": [
  {
   "metadata": {},
   "cell_type": "markdown",
   "source": "# **Recognize**",
   "id": "f9c26fdd2c683376"
  },
  {
   "metadata": {},
   "cell_type": "code",
   "source": "import speech_recognition as sr",
   "id": "af21833e4a1e911b",
   "outputs": [],
   "execution_count": null
  },
  {
   "metadata": {},
   "cell_type": "code",
   "source": [
    "recognizer = sr.Recognizer()\n",
    "\n",
    "def recognize_speech():\n",
    "    #Capture audio from microphone and convert it to text\n",
    "    with sr.Microphone(device_index=0) as source:\n",
    "        print('Please say something...')\n",
    "        \n",
    "        #Adjust sensitivity for ambient noise\n",
    "        recognizer.adjust_for_ambient_noise(source, duration=1)\n",
    "        \n",
    "        #Listen\n",
    "        audio = recognizer.listen(source, timeout=6)\n",
    "        \n",
    "        try:\n",
    "            #Recognize speech w/ Google's API\n",
    "            print('Recognizing...')\n",
    "            text = recognizer.recognize_google(audio)\n",
    "            print(f'You said: {text}')\n",
    "            return text\n",
    "        #Timeout if nothing happens\n",
    "        except sr.WaitTimeoutError:\n",
    "            print(\"You didn’t say anything. Please try again.\")\n",
    "        except sr.UnknownValueError:\n",
    "            print('Sorry, did not recognize what you said')\n",
    "        except sr.RequestError:\n",
    "            print('Could not request results. Check your internet connection.')\n",
    "            \n",
    "recognize_speech()"
   ],
   "id": "29a244f99e09f364",
   "outputs": [],
   "execution_count": null
  },
  {
   "metadata": {},
   "cell_type": "markdown",
   "source": "# **Save speech to a file**",
   "id": "5d69adb591e9734"
  },
  {
   "metadata": {},
   "cell_type": "code",
   "source": [
    "def speech_to_txt():\n",
    "    text = recognize_speech()\n",
    "    \n",
    "    if text:\n",
    "        with open('recognized_speech.txt', 'w') as file:\n",
    "            file.write(text)\n",
    "        print('Saved Speech to recognized_speech.txt')\n",
    "        \n",
    "speech_to_txt()"
   ],
   "id": "458cbbaa7a2771b",
   "outputs": [],
   "execution_count": null
  },
  {
   "metadata": {},
   "cell_type": "markdown",
   "source": "# **Multiple languages support**",
   "id": "dcd09a7193cb73c2"
  },
  {
   "metadata": {
    "ExecuteTime": {
     "end_time": "2025-01-03T14:30:24.213437Z",
     "start_time": "2025-01-03T14:30:18.877685Z"
    }
   },
   "cell_type": "code",
   "source": [
    "#Specify your language\n",
    "def recog_multilang_speech(language='en-US', timeout=10, phrase_time_limit=15):\n",
    "    with sr.Microphone(device_index=0) as source:\n",
    "        print(f'Please say something in {language.split('-')[0]}...')\n",
    "        recognizer.adjust_for_ambient_noise(source, duration=1)\n",
    "        try:\n",
    "            audio = recognizer.listen(source, timeout=timeout, phrase_time_limit=phrase_time_limit)\n",
    "            text = recognizer.recognize_google(audio, language=language)\n",
    "            print(f'You said: {text}')\n",
    "            return text\n",
    "        except sr.WaitTimeoutError:\n",
    "            print(\"You didn’t say anything. Please try again.\")\n",
    "        except sr.UnknownValueError:\n",
    "            print('Sorry, did not recognize what you said')\n",
    "        except sr.RequestError:\n",
    "            print('Could not request results. Check your internet connection.')\n",
    "            \n",
    "#Recognize speech in Russian\n",
    "recog_multilang_speech('ru-RU', timeout=10, phrase_time_limit=15)"
   ],
   "id": "dd507a20f6d7822a",
   "outputs": [
    {
     "name": "stdout",
     "output_type": "stream",
     "text": [
      "Please say something in ru...\n",
      "You said: Давно тебя не было в уличных гонках\n"
     ]
    },
    {
     "data": {
      "text/plain": [
       "'Давно тебя не было в уличных гонках'"
      ]
     },
     "execution_count": 27,
     "metadata": {},
     "output_type": "execute_result"
    }
   ],
   "execution_count": 27
  },
  {
   "metadata": {},
   "cell_type": "markdown",
   "source": "# **Let's generate a wordcloud!**",
   "id": "8609e4d3c94a5625"
  },
  {
   "metadata": {},
   "cell_type": "code",
   "source": [
    "from wordcloud import WordCloud\n",
    "import matplotlib.pyplot as plt"
   ],
   "id": "db776fe0e60351f9",
   "outputs": [],
   "execution_count": null
  },
  {
   "metadata": {},
   "cell_type": "code",
   "source": [
    "def generate_wordcloud(file_path='recognized_speech.txt'):\n",
    "    try:\n",
    "        with open(file_path, 'r') as file:\n",
    "            text = file.read()\n",
    "        wordcloud = WordCloud(width=800, height=400, background_color='white').generate(text)\n",
    "        plt.figure(figsize=(10, 5))\n",
    "        plt.imshow(wordcloud, interpolation='bilinear')\n",
    "        plt.axis('off')\n",
    "        plt.title('Word Cloud of Recognized Speech')\n",
    "        plt.show()\n",
    "    except FileNotFoundError:\n",
    "        print(f'File {file_path} not found. Please ensure that speech text is saved.')\n",
    "        \n",
    "generate_wordcloud()"
   ],
   "id": "af15a630c35cb8a7",
   "outputs": [],
   "execution_count": null
  },
  {
   "metadata": {},
   "cell_type": "code",
   "source": [
    "#doesn't work with some languages\n",
    "def speech_to_txt():\n",
    "    text = recog_multilang_speech('en-US', timeout=10, phrase_time_limit=15)\n",
    "    \n",
    "    if text:\n",
    "        with open('recognized_speech.txt', 'w') as file:\n",
    "            file.write(text)\n",
    "        print('Saved Speech to recognized_speech.txt')\n",
    "        \n",
    "speech_to_txt()\n",
    "generate_wordcloud('recognized_speech.txt')"
   ],
   "id": "be2d9c99403ffda",
   "outputs": [],
   "execution_count": null
  },
  {
   "metadata": {},
   "cell_type": "code",
   "source": "",
   "id": "6bf926cd53dbb9bf",
   "outputs": [],
   "execution_count": null
  }
 ],
 "metadata": {
  "kernelspec": {
   "display_name": "Python 3",
   "language": "python",
   "name": "python3"
  },
  "language_info": {
   "codemirror_mode": {
    "name": "ipython",
    "version": 2
   },
   "file_extension": ".py",
   "mimetype": "text/x-python",
   "name": "python",
   "nbconvert_exporter": "python",
   "pygments_lexer": "ipython2",
   "version": "2.7.6"
  }
 },
 "nbformat": 4,
 "nbformat_minor": 5
}

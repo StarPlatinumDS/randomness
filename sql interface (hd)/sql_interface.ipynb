{
 "cells": [
  {
   "metadata": {},
   "cell_type": "markdown",
   "source": "# Set up a Sample SQLite Database",
   "id": "699088a3e5b3b260"
  },
  {
   "cell_type": "code",
   "id": "initial_id",
   "metadata": {
    "collapsed": true,
    "ExecuteTime": {
     "end_time": "2025-01-13T16:11:05.247349Z",
     "start_time": "2025-01-13T16:11:04.422326Z"
    }
   },
   "source": [
    "import sqlite3\n",
    "import pandas as pd\n",
    "from twisted.conch.insults.window import cursor\n",
    "\n",
    "\n",
    "def create_sample_db(db_name='sample1.db'):\n",
    "    conn = sqlite3.connect(db_name)\n",
    "    cursor = conn.cursor()\n",
    "    \n",
    "    #create a table\n",
    "    cursor.execute(\"\"\"\n",
    "    CREATE TABLE IF NOT EXISTS employees (\n",
    "    id INTEGER PRIMARY KEY AUTOINCREMENT,\n",
    "    name TEXT NOT NULL,\n",
    "    department TEXT NOT NULL,\n",
    "    salary REAL NOT NULL)\n",
    "    \"\"\")\n",
    "    \n",
    "    #insert sample data\n",
    "    sample_data = [\n",
    "        ('Alice', 'Engineering', 75000),\n",
    "        ('Rob', 'HR', 50000),\n",
    "        ('Charlie', 'Finance', 65000),\n",
    "        ('David', 'Engineering', 80000),\n",
    "        ('Arthur', 'Marketing', 60000),\n",
    "        ('Ginnie', \"HR\", 50000)\n",
    "    ]\n",
    "    \n",
    "    cursor.executemany(\"INSERT INTO employees (name, department, salary) VALUES (?, ?, ?)\", sample_data)\n",
    "    conn.commit()\n",
    "    conn.close()\n",
    "    print(f\"Database '{db_name}' created and populated with sample data.\")\n",
    "    return db_name\n",
    "\n",
    "#Test\n",
    "db_path = create_sample_db()"
   ],
   "outputs": [
    {
     "name": "stdout",
     "output_type": "stream",
     "text": [
      "Database 'sample1.db' created and populated with sample data.\n"
     ]
    }
   ],
   "execution_count": 1
  },
  {
   "metadata": {},
   "cell_type": "markdown",
   "source": "# Connect to Database",
   "id": "f195751b091444f2"
  },
  {
   "metadata": {
    "ExecuteTime": {
     "end_time": "2025-01-13T16:16:07.101289Z",
     "start_time": "2025-01-13T16:16:07.087875Z"
    }
   },
   "cell_type": "code",
   "source": [
    "def connect_to_db(db_name):\n",
    "    try:\n",
    "        conn = sqlite3.connect(db_name)\n",
    "        print(f\"Connected to {db_name}\")\n",
    "        conn.close()\n",
    "        return conn\n",
    "    except sqlite3.Error as e:\n",
    "        print(f'Error connecting to database: {e}')\n",
    "        return None\n",
    "    \n",
    "#Test\n",
    "connection = connect_to_db(db_path)"
   ],
   "id": "beae9ea0784e03a4",
   "outputs": [
    {
     "name": "stdout",
     "output_type": "stream",
     "text": [
      "Connected to sample1.db\n"
     ]
    }
   ],
   "execution_count": 5
  },
  {
   "metadata": {},
   "cell_type": "markdown",
   "source": "# Execute SQL Queries",
   "id": "38be06799eef7926"
  },
  {
   "metadata": {
    "ExecuteTime": {
     "end_time": "2025-01-13T16:11:24.311586Z",
     "start_time": "2025-01-13T16:11:24.287806Z"
    }
   },
   "cell_type": "code",
   "source": [
    "def execute_query(connection, query):\n",
    "    try:\n",
    "        cursor = connection.cursor()\n",
    "        cursor.execute(query)\n",
    "        \n",
    "        #Fetch column names, data\n",
    "        columns = [desc[0] for desc in cursor.description]\n",
    "        data = cursor.fetchall()\n",
    "        \n",
    "        #return as pandas DF\n",
    "        return pd.DataFrame(data, columns=columns)\n",
    "    except sqlite3.Error as e:\n",
    "        print(f'Error executing query: {e}')\n",
    "        return None\n",
    "    \n",
    "#Test\n",
    "test_query = 'SELECT * FROM employees'\n",
    "result_df = execute_query(connection, test_query)\n",
    "\n",
    "#Display results\n",
    "if result_df is not None:\n",
    "    print(result_df)"
   ],
   "id": "78458b82f487997d",
   "outputs": [
    {
     "name": "stdout",
     "output_type": "stream",
     "text": [
      "   id     name   department   salary\n",
      "0   1    Alice  Engineering  75000.0\n",
      "1   2      Rob           HR  50000.0\n",
      "2   3  Charlie      Finance  65000.0\n",
      "3   4    David  Engineering  80000.0\n",
      "4   5   Arthur    Marketing  60000.0\n",
      "5   6   Ginnie           HR  50000.0\n"
     ]
    }
   ],
   "execution_count": 3
  },
  {
   "metadata": {},
   "cell_type": "markdown",
   "source": "# Create an interface with ipywidgets",
   "id": "35f6a6d0a2038b40"
  },
  {
   "metadata": {
    "ExecuteTime": {
     "end_time": "2025-01-13T16:11:32.524290Z",
     "start_time": "2025-01-13T16:11:32.453303Z"
    }
   },
   "cell_type": "code",
   "source": [
    "import ipywidgets as widgets\n",
    "from IPython.display import display, clear_output\n",
    "\n",
    "def interactive_interface(connection):\n",
    "    query_input = widgets.Textarea(\n",
    "        value=\"SELECT * FROM employees\",\n",
    "        placeholder=\"Type your SQL query here...\",\n",
    "        description=\"Query:\",\n",
    "        layout=widgets.Layout(width=\"80%\", height='100px')\n",
    "    )\n",
    "    execute_button = widgets.Button(description=\"Execute Query\", button_style='success')\n",
    "    output_area = widgets.Output()\n",
    "    \n",
    "    #Callback func\n",
    "    def on_button_clicked(b):\n",
    "        with output_area:\n",
    "            clear_output()\n",
    "            query = query_input.value\n",
    "            result_df = execute_query(connection, query)\n",
    "            if result_df is not None:\n",
    "                display(result_df)\n",
    "            else:\n",
    "                print('No results or invalid query.')\n",
    "                \n",
    "    execute_button.on_click(on_button_clicked)\n",
    "    \n",
    "    #Display widgets\n",
    "    display(query_input, execute_button, output_area)\n",
    "    \n",
    "#Test\n",
    "interactive_interface(connection)"
   ],
   "id": "e7b027885c53891c",
   "outputs": [
    {
     "data": {
      "text/plain": [
       "Textarea(value='SELECT * FROM employees', description='Query:', layout=Layout(height='100px', width='80%'), pl…"
      ],
      "application/vnd.jupyter.widget-view+json": {
       "version_major": 2,
       "version_minor": 0,
       "model_id": "368e152da6b04401be3951e7a8fd2e5c"
      }
     },
     "metadata": {},
     "output_type": "display_data"
    },
    {
     "data": {
      "text/plain": [
       "Button(button_style='success', description='Execute Query', style=ButtonStyle())"
      ],
      "application/vnd.jupyter.widget-view+json": {
       "version_major": 2,
       "version_minor": 0,
       "model_id": "f5f25fee09774e2a9abb3248931bbea7"
      }
     },
     "metadata": {},
     "output_type": "display_data"
    },
    {
     "data": {
      "text/plain": [
       "Output()"
      ],
      "application/vnd.jupyter.widget-view+json": {
       "version_major": 2,
       "version_minor": 0,
       "model_id": "8338512daebe45bfb754e2cdaebec41f"
      }
     },
     "metadata": {},
     "output_type": "display_data"
    }
   ],
   "execution_count": 4
  },
  {
   "metadata": {},
   "cell_type": "markdown",
   "source": "# Error Handling",
   "id": "75149ce35f54026a"
  },
  {
   "metadata": {
    "ExecuteTime": {
     "end_time": "2025-01-13T13:51:26.058487Z",
     "start_time": "2025-01-13T13:51:26.049763Z"
    }
   },
   "cell_type": "code",
   "source": [
    "def execute_query(connection, query):\n",
    "    try:\n",
    "        cursor = connection.cursor()\n",
    "        cursor.execute(query)\n",
    "        \n",
    "        #Fetch column names, data\n",
    "        columns = [desc[0] for desc in cursor.description] if cursor.description else None\n",
    "        data = cursor.fetchall()\n",
    "        \n",
    "        #return as pandas DF\n",
    "        return pd.DataFrame(data, columns=columns) if columns else pd.DataFrame()\n",
    "    except sqlite3.Error as e:\n",
    "        print(f'SQL Error: {e}')\n",
    "        return None"
   ],
   "id": "1929bec881444d2",
   "outputs": [],
   "execution_count": 5
  },
  {
   "metadata": {},
   "cell_type": "markdown",
   "source": "# Database Schema",
   "id": "4afac48043c68e89"
  },
  {
   "metadata": {
    "ExecuteTime": {
     "end_time": "2025-01-13T14:01:29.665591Z",
     "start_time": "2025-01-13T14:01:29.656571Z"
    }
   },
   "cell_type": "code",
   "source": [
    "def display_schema(connection):\n",
    "    try:\n",
    "        cursor = connection.cursor()\n",
    "        cursor.execute(\"SELECT name FROM sqlite_master WHERE type='table'\")\n",
    "        tables = cursor.fetchall()\n",
    "        \n",
    "        print('Database Schema')\n",
    "        for table in tables:\n",
    "            table_name = table[0]\n",
    "            print(f'\\nTable: {table_name}')\n",
    "            cursor.execute(f\"PRAGMA TABLE_INFO({table_name})\")\n",
    "            columns = cursor.fetchall()\n",
    "            for column in columns:\n",
    "                print(f' - {column[1]} ({column[2]})')\n",
    "    except sqlite3.Error as e:\n",
    "        print(f'Error retrieving schema: {e}')\n",
    "        \n",
    "#Test \n",
    "connection = sqlite3.connect('sample.db')\n",
    "display_schema(connection)"
   ],
   "id": "5a594b9a3937ae8a",
   "outputs": [
    {
     "name": "stdout",
     "output_type": "stream",
     "text": [
      "Database Schema\n",
      "\n",
      "Table: employees\n",
      " - id 0 (INTEGER)\n",
      " - name 1 (TEXT)\n",
      " - department 2 (TEXT)\n",
      " - salary 3 (REAL)\n",
      "\n",
      "Table: sqlite_sequence\n",
      " - name 0 ()\n",
      " - seq 1 ()\n"
     ]
    }
   ],
   "execution_count": 7
  },
  {
   "metadata": {},
   "cell_type": "markdown",
   "source": "# Export Query Results",
   "id": "d67bd62a01a8dbfc"
  },
  {
   "metadata": {},
   "cell_type": "markdown",
   "source": [
    "def export_query(result_df, file_name='query_results.csv'):\n",
    "    try:\n",
    "        result_df.to_csv(file_name, index=False)\n",
    "        print(f'Query results exported to \"{file_name}\".')\n",
    "    except Exception as e:\n",
    "        print(f'Error saving query results: {e}')\n",
    "        \n",
    "        \n",
    "#TEst\n",
    "test_query = 'SELECT * FROM employees'\n",
    "result_df = execute_query(connection, test_query)\n",
    "if result_df is not None:\n",
    "    export_query(result_df)"
   ],
   "id": "805f7cd11f7e9802"
  },
  {
   "metadata": {},
   "cell_type": "markdown",
   "source": "# Upload DBs",
   "id": "371f402b53b1c054"
  },
  {
   "metadata": {},
   "cell_type": "markdown",
   "source": [
    "def upload_db():\n",
    "    upload_widget = widgets.FileUpload(\n",
    "        accept='.db',\n",
    "        multiple=False\n",
    "    )\n",
    "    \n",
    "    def handle_upload(change):\n",
    "        if upload_widget.value:\n",
    "            uploaded_file = next(iter(upload_widget.value.values()))\n",
    "            db_name = uploaded_file['name']\n",
    "            with open(db_name, 'wb') as f:\n",
    "                f.write(uploaded_file['content'])\n",
    "            print(f'Database \"{db_name}\" uploaded successfully!')\n",
    "    \n",
    "    upload_widget.observe(handle_upload, names='value')\n",
    "    display(upload_widget)\n",
    "    \n",
    "    \n",
    "#test\n",
    "upload_db()"
   ],
   "id": "ec49cd22cd9762f5"
  },
  {
   "metadata": {},
   "cell_type": "markdown",
   "source": "# All together",
   "id": "caf60d61a30a8e1f"
  },
  {
   "metadata": {},
   "cell_type": "markdown",
   "source": [
    "import sqlite3\n",
    "import pandas as pd\n",
    "from twisted.conch.insults.window import cursor\n",
    "import ipywidgets as widgets\n",
    "from IPython.display import display, clear_output\n",
    "\n",
    "def query_interface():\n",
    "    upload_widget = widgets.FileUpload(accept='.db', multiple=False)\n",
    "    query_input = widgets.Textarea(placeholder=\"Type your SQL query here...\", layout=widgets.Layout(width=\"100%\"))\n",
    "    submit_query_button = widgets.Button(description=\"Run Query\", button_style='success')\n",
    "    export_button = widgets.Button(description=\"Export Query\", button_style='primary')\n",
    "    schema_output = widgets.Output()\n",
    "    query_output = widgets.Output()\n",
    "    export_output = widgets.Output()\n",
    "    \n",
    "    #DB connection placeholder\n",
    "    db_connection =  [None]\n",
    "    result_df = [None]\n",
    "    \n",
    "    def upload_db(change):\n",
    "        with schema_output:\n",
    "            clear_output()\n",
    "            try:\n",
    "                if not upload_widget.value:\n",
    "                    print('No file uploaded. Please upload a .db file.')\n",
    "                    return \n",
    "                \n",
    "                uploaded_file = next(iter(upload_widget.value.values()))\n",
    "                db_name = uploaded_file['name']\n",
    "                \n",
    "                with open(db_name, 'wb') as f:\n",
    "                    f.write(uploaded_file['content'])\n",
    "                \n",
    "                conn = sqlite3.connect(db_name)\n",
    "                db_connection[0] = conn\n",
    "                print(f\"Database '{db_name}' uploaded successfully!\")\n",
    "                \n",
    "                display_schema(db_connection[0])\n",
    "            except sqlite3.Error as e:\n",
    "                print(f'SQLite Error: {e}')\n",
    "            except Exception as e:\n",
    "                print(f'Error uploading database: {e}')\n",
    "                \n",
    "            \n",
    "    def display_schema(connection):\n",
    "        try:\n",
    "            cursor = connection.cursor()\n",
    "            cursor.execute(\"SELECT name FROM sqlite_master WHERE type='table'\")\n",
    "            tables = cursor.fetchall()\n",
    "            if not tables:\n",
    "                print('No tables found in the database.')\n",
    "                return \n",
    "            \n",
    "            print('Database Schema:')\n",
    "            \n",
    "            for table in tables:\n",
    "                table_name = table[0]\n",
    "                print(f'\\nTable: {table_name}')\n",
    "                cursor.execute(f\"PRAGMA TABLE_INFO({table_name})\")\n",
    "                columns = cursor.fetchall()\n",
    "                for column in columns:\n",
    "                    print(f' - {column[1]} ({column[2]})')\n",
    "        except sqlite3.Error as e:\n",
    "            print(f'Error retrieving schema: {e}')\n",
    "            \n",
    "    \n",
    "    def validate_query(query):\n",
    "        prohibited_commands = [\"DROP\", \"DELETE\", \"UPDATE\"]\n",
    "        for cmd in prohibited_commands:\n",
    "            if cmd in query.upper():\n",
    "                print(f\"Query contains prohibited command: {cmd}\")\n",
    "                return False\n",
    "        return True\n",
    "    \n",
    "    \n",
    "    def execute_query(query):\n",
    "        try:\n",
    "            if db_connection[0] is None:\n",
    "                print(\"No database connected. Please connect to the database.\")\n",
    "                return None\n",
    "            if not validate_query(query):\n",
    "                return None\n",
    "            \n",
    "            cursor = db_connection[0].cursor()\n",
    "            cursor.execute(query)\n",
    "            if query.strip().upper().startswith(\"SELECT\"):\n",
    "                rows = cursor.fetchall()\n",
    "                columns = [desc[0] for desc in cursor.description]\n",
    "                return pd.DataFrame(rows, columns=columns)\n",
    "            else:\n",
    "                db_connection[0].commit()\n",
    "                print(f\"Query executed successfully!\")\n",
    "        except sqlite3.Error as e:\n",
    "            print(f'Error executing query: {e}')\n",
    "        return None\n",
    "    \n",
    "    \n",
    "    def run_query(button):\n",
    "        with query_output:\n",
    "            clear_output()\n",
    "            query = query_input.value.strip()\n",
    "            if not query:\n",
    "                print('Please enter a SQL query.')\n",
    "                return \n",
    "            \n",
    "            df = execute_query(query)\n",
    "            if df is not None:\n",
    "                print(\"Query Results:\")\n",
    "                display(df)\n",
    "                result_df[0] = df\n",
    "            else: \n",
    "                result_df[0] = None\n",
    "                \n",
    "    def export_results(button):\n",
    "        with export_output:\n",
    "            clear_output()\n",
    "            if result_df[0] is not None:\n",
    "                result_df[0].to_csv('query_results.csv', index=False)\n",
    "                print(f'Query results exported to \"query_results.csv\".')\n",
    "            else:\n",
    "                print('No query results to export.')\n",
    "                \n",
    "    #Widgets\n",
    "    upload_widget.observe(upload_db, names='value')\n",
    "    submit_query_button.on_click(run_query)\n",
    "    export_button.on_click(export_results)\n",
    "    \n",
    "    #Display widgets\n",
    "    display(widgets.HTML(\"<h3>SQLite Interactive Query Interface</h3>\"))\n",
    "    display(widgets.VBox([\n",
    "        widgets.HTML(\"<b>Step 1: Upload a SQLite database file (.db)</b>\"),\n",
    "        upload_widget,\n",
    "        schema_output,\n",
    "        widgets.HTML(\"<hr><b>Step 2: Enter your SQL query</b>\"),\n",
    "        query_input,\n",
    "        submit_query_button,\n",
    "        query_output,\n",
    "        widgets.HTML(\"<hr><b>Step 3: Export Query Results (Optional)</b>\"),\n",
    "        export_button,\n",
    "        export_output\n",
    "    ]))\n",
    "    \n",
    "\n",
    "#Run!\n",
    "query_interface()"
   ],
   "id": "aef026d6cceffc39"
  },
  {
   "metadata": {},
   "cell_type": "code",
   "outputs": [],
   "execution_count": null,
   "source": "",
   "id": "52ff305db616f907"
  }
 ],
 "metadata": {
  "kernelspec": {
   "display_name": "Python 3",
   "language": "python",
   "name": "python3"
  },
  "language_info": {
   "codemirror_mode": {
    "name": "ipython",
    "version": 2
   },
   "file_extension": ".py",
   "mimetype": "text/x-python",
   "name": "python",
   "nbconvert_exporter": "python",
   "pygments_lexer": "ipython2",
   "version": "2.7.6"
  }
 },
 "nbformat": 4,
 "nbformat_minor": 5
}

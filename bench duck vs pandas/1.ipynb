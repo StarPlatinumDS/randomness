{
 "cells": [
  {
   "metadata": {},
   "cell_type": "markdown",
   "source": "link: https://github.com/DataTalksClub/nyc-tlc-data/releases/download/yellow/yellow_tripdata_2019-01.csv.gz",
   "id": "fca9c0f1942c937f"
  },
  {
   "metadata": {},
   "cell_type": "markdown",
   "source": "Need to convert csv to .parquet\n",
   "id": "18b3ac186839c9d0"
  },
  {
   "cell_type": "code",
   "id": "initial_id",
   "metadata": {
    "collapsed": true
   },
   "source": [
    "import duckdb\n",
    "import pathlib\n",
    "import os\n",
    "import pandas as pd\n",
    "import time, psutil"
   ],
   "outputs": [],
   "execution_count": null
  },
  {
   "metadata": {},
   "cell_type": "code",
   "source": [
    "raw_path = './data/raw/yellow_tripdata_2019-01.csv'\n",
    "parquet_path = './data/parquet/yellow_tripdata_2019-01.parquet'\n",
    "os.makedirs('data/parquet', exist_ok=True)"
   ],
   "id": "d99ad6be9cbfb474",
   "outputs": [],
   "execution_count": null
  },
  {
   "metadata": {},
   "cell_type": "code",
   "source": [
    "duckdb.sql(f\"\"\"\n",
    "    COPY (SELECT * FROM read_csv_auto('{raw_path}'))\n",
    "    TO '{parquet_path}'\n",
    "    (FORMAT 'parquet', CODEC 'snappy')\n",
    "\"\"\")"
   ],
   "id": "ef3d623c8c2b62be",
   "outputs": [],
   "execution_count": null
  },
  {
   "metadata": {},
   "cell_type": "code",
   "source": [
    "con = duckdb.connect()\n",
    "query = \"\"\"\n",
    "    WITH trips AS (\n",
    "        SELECT\n",
    "            passenger_count,\n",
    "            tip_amount,\n",
    "            trip_distance,\n",
    "            tpep_pickup_datetime AS pickup_ts\n",
    "        FROM read_parquet('data/parquet/yellow_tripdata_2019-01.parquet')\n",
    "        WHERE trip_distance > 2\n",
    "    )\n",
    "    SELECT\n",
    "        passenger_count,\n",
    "        AVG(tip_amount) AS avg_tip,\n",
    "        COUNT(*)        AS trips\n",
    "    FROM trips\n",
    "    GROUP BY passenger_count\n",
    "    ORDER BY passenger_count;\n",
    "\"\"\"\n",
    "\n",
    "\n",
    "duckdf = con.sql(query).df()"
   ],
   "id": "97b56b19f23bcfb5",
   "outputs": [],
   "execution_count": null
  },
  {
   "metadata": {},
   "cell_type": "code",
   "source": "duckdf",
   "id": "c773d8b4e38de301",
   "outputs": [],
   "execution_count": null
  },
  {
   "metadata": {},
   "cell_type": "code",
   "source": [
    "\n",
    "\n",
    "def run_benchmark(f, label):\n",
    "    t0 = time.perf_counter()\n",
    "    proc = psutil.Process()\n",
    "    mem_before = proc.memory_info().rss\n",
    "    out = f()\n",
    "    mem_after  = proc.memory_info().rss\n",
    "    print(\n",
    "        f\"{label:<7} | time {time.perf_counter()-t0:6.2f}s \"\n",
    "        f\"| ΔRAM {(mem_after-mem_before)/1e6:6.1f} MB\"\n",
    "    )\n",
    "    return out\n",
    "\n",
    "run_benchmark(lambda: con.sql(query).df(), \"DuckDB\")\n"
   ],
   "id": "8f83f0facdf7ac67",
   "outputs": [],
   "execution_count": null
  },
  {
   "metadata": {},
   "cell_type": "markdown",
   "source": [
    "Aggregation and getting result took 0.02s, let's compare to:\n",
    "\n",
    "DuckDB  | time   0.03s | ΔRAM    1.2 MB\n",
    "\n"
   ],
   "id": "297cd8aa0280568c"
  },
  {
   "metadata": {},
   "cell_type": "markdown",
   "source": "Duck to Pandas df",
   "id": "eb11e7194a8668cf"
  },
  {
   "metadata": {},
   "cell_type": "code",
   "source": [
    "def load_full_df():\n",
    "    return con.sql(f\"SELECT * FROM read_parquet('{parquet_path}')\").df()\n",
    "\n",
    "run_benchmark(load_full_df, 'Duck -> pandas full')"
   ],
   "id": "12871fba37ec0d72",
   "outputs": [],
   "execution_count": null
  },
  {
   "metadata": {},
   "cell_type": "markdown",
   "source": "Full pandas",
   "id": "f40faf266813464a"
  },
  {
   "metadata": {},
   "cell_type": "code",
   "source": [
    "import pandas as pd\n",
    "import psutil \n",
    "import time\n",
    "\n",
    "COLS  = [\"passenger_count\", \"tip_amount\", \"trip_distance\"]\n",
    "\n",
    "def pandas_full():\n",
    "    df = pd.read_csv(raw_path,\n",
    "                     usecols=COLS,\n",
    "                     dtype={\"passenger_count\": \"Int8\"})   # tiny int saves RAM\n",
    "    df = df[df.trip_distance > 2]\n",
    "    out = (df\n",
    "           .groupby(\"passenger_count\", observed=True)\n",
    "           .agg(avg_tip = (\"tip_amount\", \"mean\"),\n",
    "                trips   = (\"tip_amount\", \"size\"))\n",
    "           .reset_index()\n",
    "           .sort_values(\"passenger_count\"))\n",
    "    return out\n"
   ],
   "id": "7ce9759626682c00",
   "outputs": [],
   "execution_count": null
  },
  {
   "metadata": {},
   "cell_type": "markdown",
   "source": "Pandas chunked",
   "id": "1fb0943f503431ea"
  },
  {
   "metadata": {},
   "cell_type": "code",
   "source": [
    "\n",
    "from collections import defaultdict\n",
    "\n",
    "def pandas_chunked(chunksize=1_000_000):\n",
    "    totals = defaultdict(lambda: [0.0, 0])   # key → [tip_sum, trip_count]\n",
    "\n",
    "    for chunk in pd.read_csv(raw_path,\n",
    "                             usecols=COLS,\n",
    "                             dtype={\"passenger_count\": \"Int8\"},\n",
    "                             chunksize=chunksize):\n",
    "        chunk = chunk[chunk.trip_distance > 2]\n",
    "        gb = (chunk\n",
    "              .groupby(\"passenger_count\", observed=True)[\"tip_amount\"]\n",
    "              .agg([\"sum\", \"count\"]))\n",
    "        for pc, row in gb.itertuples():\n",
    "            totals[pc][0] += row.sum\n",
    "            totals[pc][1] += row.count\n",
    "\n",
    "    # collapse dict → tidy DataFrame\n",
    "    out = (pd.DataFrame({\n",
    "             \"passenger_count\": list(totals.keys()),\n",
    "             \"avg_tip\": [totals[k][0] / totals[k][1] for k in totals],\n",
    "             \"trips\"  : [totals[k][1]                for k in totals]\n",
    "           })\n",
    "           .sort_values(\"passenger_count\")\n",
    "           .reset_index(drop=True))\n",
    "    return out\n"
   ],
   "id": "2a7a4e2d07f1b7a2",
   "outputs": [],
   "execution_count": null
  },
  {
   "metadata": {},
   "cell_type": "code",
   "source": [
    "run_benchmark(pandas_full,    \"Pandas ALL\")\n",
    "#run_benchmark(pandas_chunked, \"Pandas CHUNK\") "
   ],
   "id": "b56a7c29e109bcf0",
   "outputs": [],
   "execution_count": null
  },
  {
   "metadata": {},
   "cell_type": "markdown",
   "source": "Pandas ALL | time   3.15s | ΔRAM  475.3 MB\n",
   "id": "8357cef3fdca159e"
  },
  {
   "metadata": {},
   "cell_type": "markdown",
   "source": [
    "Final results:\n",
    "\n",
    "DuckDB  | time   0.03s | ΔRAM    1.2 MB\n",
    "\n",
    "\n",
    "Pandas ALL | time   3.15s | ΔRAM  475.3 MB\n",
    "\n",
    "\n",
    "Pandas CHUNK | time   DNF | ΔRAM  DNF\n",
    "\n",
    "Duck -> pandas full | time   0.92s | ΔRAM   29.7 MB"
   ],
   "id": "78b09393bc25ab5e"
  },
  {
   "metadata": {},
   "cell_type": "code",
   "source": "",
   "id": "5c8c08ad58262258",
   "outputs": [],
   "execution_count": null
  }
 ],
 "metadata": {
  "kernelspec": {
   "display_name": "Python 3",
   "language": "python",
   "name": "python3"
  },
  "language_info": {
   "codemirror_mode": {
    "name": "ipython",
    "version": 2
   },
   "file_extension": ".py",
   "mimetype": "text/x-python",
   "name": "python",
   "nbconvert_exporter": "python",
   "pygments_lexer": "ipython2",
   "version": "2.7.6"
  }
 },
 "nbformat": 4,
 "nbformat_minor": 5
}
